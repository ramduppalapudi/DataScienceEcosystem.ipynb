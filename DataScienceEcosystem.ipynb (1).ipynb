{
 "cells": [
  {
   "cell_type": "markdown",
   "id": "12c25032-9c58-4b9e-8fb2-736d1becbbbc",
   "metadata": {},
   "source": [
    "# Data Science Tools and Ecosystem"
   ]
  },
  {
   "cell_type": "markdown",
   "id": "8a50e63d-d754-4bc1-b823-00cac2e1405c",
   "metadata": {},
   "source": [
    "In this notebook, Data Science Tools and Ecosystem are summarized."
   ]
  },
  {
   "cell_type": "markdown",
   "id": "00bda786-504a-4e4b-8ffb-75ad9dc6257e",
   "metadata": {},
   "source": [
    "__Objectives:__\n",
    "* List of popular languages for Data Science\n",
    "* List of commonly used libraries used by Data Scientists\n",
    "* Data Science of tools\n",
    "* Simple arithmetic expression\n",
    "* convert 200 minutes to hours by diving by 60\n",
    "* Author details"
   ]
  },
  {
   "cell_type": "markdown",
   "id": "14f6f2d0-a9cf-4575-9f89-b3952cd06034",
   "metadata": {},
   "source": [
    "Some of the popular languages that Data Scientists use are:\n",
    "1. Python,\n",
    "2. R programming,\n",
    "3. SAS Progrmming."
   ]
  },
  {
   "cell_type": "markdown",
   "id": "3a7d3a5c-9a50-473a-a81f-b41347c71a0c",
   "metadata": {},
   "source": [
    "Some of the commonly used libraries used by Data Scientists include:\n",
    "1. Numpy,\n",
    "2. Pandas,\n",
    "3. Skicit Learn,\n",
    "4. Matplotlib,\n",
    "5. Seaborn"
   ]
  },
  {
   "cell_type": "markdown",
   "id": "b211f902-e47d-4ee1-89ce-619f47246a57",
   "metadata": {},
   "source": [
    "| Data Science Tools |\n",
    "|:------------------:|\n",
    "|     Jupyter        |\n",
    "|     R Studio       |\n",
    "|   Apache Spark     |\n"
   ]
  },
  {
   "cell_type": "markdown",
   "id": "4a4b3407-9712-4945-b34c-a4eec0d26fdc",
   "metadata": {},
   "source": [
    "### Below are a few examples of evaluating arithmetic expressions in Python"
   ]
  },
  {
   "cell_type": "code",
   "execution_count": 1,
   "id": "e712a0ff-9509-4e99-b6e1-2011e0b8c64c",
   "metadata": {
    "tags": []
   },
   "outputs": [
    {
     "data": {
      "text/plain": [
       "17"
      ]
     },
     "execution_count": 1,
     "metadata": {},
     "output_type": "execute_result"
    }
   ],
   "source": [
    "# This a simple arithmetic expression to mutiply then add integers\n",
    "(3*4)+5"
   ]
  },
  {
   "cell_type": "code",
   "execution_count": 1,
   "id": "a10d33ef-64ac-4805-8186-df52f179f796",
   "metadata": {
    "tags": []
   },
   "outputs": [
    {
     "name": "stdout",
     "output_type": "stream",
     "text": [
      "3\n"
     ]
    }
   ],
   "source": [
    "# This will convert 200 minutes to hours by diving by 60\n",
    "Hours = 200 // 60\n",
    "print(Hours)"
   ]
  },
  {
   "cell_type": "markdown",
   "id": "485dcd84-266d-4e2e-9fa2-e0d5ec5068fb",
   "metadata": {},
   "source": [
    "## Author\n",
    "Sairam Duppalapudi"
   ]
  },
  {
   "cell_type": "code",
   "execution_count": null,
   "id": "3e31efd3-f3a9-444c-b9af-7d5c3bf88c77",
   "metadata": {},
   "outputs": [],
   "source": []
  }
 ],
 "metadata": {
  "kernelspec": {
   "display_name": "Python",
   "language": "python",
   "name": "conda-env-python-py"
  },
  "language_info": {
   "codemirror_mode": {
    "name": "ipython",
    "version": 3
   },
   "file_extension": ".py",
   "mimetype": "text/x-python",
   "name": "python",
   "nbconvert_exporter": "python",
   "pygments_lexer": "ipython3",
   "version": "3.7.12"
  }
 },
 "nbformat": 4,
 "nbformat_minor": 5
}
